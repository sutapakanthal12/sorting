{
 "cells": [
  {
   "cell_type": "code",
   "execution_count": 1,
   "id": "22c6b661-10ae-4a8e-a519-ca79d2c8b506",
   "metadata": {},
   "outputs": [
    {
     "name": "stdout",
     "output_type": "stream",
     "text": [
      "The elements appearing the maximum number of times are:\n",
      "[2, 4]\n"
     ]
    }
   ],
   "source": [
    "def find_max_elements(arr):\n",
    "    element_count = {}\n",
    "\n",
    "    for num in arr:\n",
    "        if num in element_count:\n",
    "            element_count[num] += 1\n",
    "        else:\n",
    "            element_count[num] = 1\n",
    "\n",
    "    max_count = max(element_count.values())\n",
    "    max_elements = []\n",
    "\n",
    "    for element, count in element_count.items():\n",
    "        if count == max_count:\n",
    "            max_elements.append(element)\n",
    "\n",
    "    return max_elements\n",
    "\n",
    "\n",
    "\n",
    "arr = [1, 2, 3, 2, 2, 4, 5, 4, 4]  \n",
    "max_elements = find_max_elements(arr)\n",
    "if max_elements:\n",
    "    print(\"The elements appearing the maximum number of times are:\")\n",
    "    print(max_elements)\n",
    "else:\n",
    "    print(\"The array is empty.\")"
   ]
  },
  {
   "cell_type": "code",
   "execution_count": 2,
   "id": "47e16fad-d9ef-44cb-b1fd-0f39249cd785",
   "metadata": {},
   "outputs": [
    {
     "data": {
      "text/plain": [
       "5"
      ]
     },
     "execution_count": 2,
     "metadata": {},
     "output_type": "execute_result"
    }
   ],
   "source": [
    "def find_missing_number(nums):\n",
    "    n = len(nums) + 1\n",
    "    expected_sum = n*(n+1)//2\n",
    "    actual_sum=sum(nums)\n",
    "    missing_number=expected_sum-actual_sum\n",
    "    return missing_number\n",
    "\n",
    "find_missing_number([1,2,4,6,3,7,8])"
   ]
  },
  {
   "cell_type": "code",
   "execution_count": 3,
   "id": "23d042dc-0715-4b6c-a350-492ae4667c5c",
   "metadata": {},
   "outputs": [
    {
     "data": {
      "text/plain": [
       "3"
      ]
     },
     "execution_count": 3,
     "metadata": {},
     "output_type": "execute_result"
    }
   ],
   "source": [
    "def find_odd_occurrence(arr):\n",
    "    result=0\n",
    "    for num in arr:\n",
    "        result ^= num\n",
    "        \n",
    "    return result    \n",
    "\n",
    "find_odd_occurrence([1,2,3,2,3,1,3])"
   ]
  },
  {
   "cell_type": "code",
   "execution_count": 4,
   "id": "d08c5759-1000-4f95-9691-120bd97f7e16",
   "metadata": {},
   "outputs": [
    {
     "name": "stdout",
     "output_type": "stream",
     "text": [
      "The pair is 4 and 10 with sum equal to 14.\n"
     ]
    }
   ],
   "source": [
    "def find_sum_pair_sorted(arr, target):\n",
    "    left = 0\n",
    "    right = len(arr) - 1\n",
    "\n",
    "    while left < right:\n",
    "        current_sum = arr[left] + arr[right]\n",
    "        if current_sum == target:\n",
    "            return arr[left], arr[right]\n",
    "        elif current_sum < target:\n",
    "            left += 1\n",
    "        else:\n",
    "            right -= 1\n",
    "\n",
    "    return None\n",
    "\n",
    "\n",
    "arr = [2, 4, 6, 8, 10]\n",
    "target = 14\n",
    "result = find_sum_pair_sorted(arr, target)\n",
    "if result:\n",
    "    num1, num2 = result\n",
    "    print(f\"The pair is {num1} and {num2} with sum equal to {target}.\")\n",
    "else:\n",
    "    print(\"No such pair exists.\")"
   ]
  },
  {
   "cell_type": "code",
   "execution_count": 5,
   "id": "dc980adc-d6b0-461b-8a7a-93cfee3a5aa1",
   "metadata": {},
   "outputs": [
    {
     "name": "stdout",
     "output_type": "stream",
     "text": [
      "[2, 5, 8]\n"
     ]
    }
   ],
   "source": [
    "def find_sum_elements(arr,target):\n",
    "    n=len(arr)\n",
    "    arr.sort()\n",
    "    \n",
    "    for i in range(n-2):\n",
    "        left = i+1\n",
    "        right = n-1\n",
    "        while left<right:\n",
    "            current_sum=arr[i]+arr[left]+arr[right]\n",
    "            if current_sum==target:\n",
    "                return [arr[i],arr[left],arr[right]]\n",
    "            elif current_sum < target:\n",
    "                left += 1\n",
    "            else :\n",
    "                right -= 1\n",
    "    return []\n",
    "\n",
    "\n",
    "arr = [2,3,4,5,6,7,8]\n",
    "target = 15\n",
    "result = find_sum_elements(arr,target)\n",
    "print(result)"
   ]
  },
  {
   "cell_type": "code",
   "execution_count": 6,
   "id": "75a64efb-ff31-455d-a76c-d32d72df7365",
   "metadata": {},
   "outputs": [
    {
     "name": "stdout",
     "output_type": "stream",
     "text": [
      "[3, 4, 5]\n"
     ]
    }
   ],
   "source": [
    "def find_three_elements(arr):\n",
    "    n=len(arr)\n",
    "    \n",
    "    \n",
    "    for i in range(n-2):\n",
    "        i_squ = arr[i] * arr[i]\n",
    "        for j in range(i+1,n-1):\n",
    "            j_squ = arr[j]*arr[j]\n",
    "            for k in range(j+1,n):\n",
    "                k_squ = arr[k]*arr[k]  \n",
    "        \n",
    "                if i_squ + j_squ == k_squ:\n",
    "                    return [arr[i],arr[j],arr[k]]\n",
    "       \n",
    "    return []\n",
    "\n",
    "arr = [3,4,5,6,7,8,9,16,18]\n",
    "result = find_three_elements(arr)\n",
    "print(result)"
   ]
  },
  {
   "cell_type": "code",
   "execution_count": 7,
   "id": "6ab076db-df5a-4881-a7ef-cd2fa82be765",
   "metadata": {},
   "outputs": [
    {
     "name": "stdout",
     "output_type": "stream",
     "text": [
      "The majority element is 2\n"
     ]
    }
   ],
   "source": [
    "def find_majority(arr):\n",
    "    candidate = None\n",
    "    count = 0\n",
    "\n",
    "    for num in arr:\n",
    "        if count == 0:\n",
    "            candidate = num\n",
    "            count = 1\n",
    "        elif num == candidate:\n",
    "            count += 1\n",
    "        else:\n",
    "            count -= 1\n",
    "\n",
    "    \n",
    "    count = sum(1 for num in arr if num == candidate)\n",
    "\n",
    "    if count > len(arr) // 2:\n",
    "        return candidate\n",
    "    else:\n",
    "        return None  \n",
    "\n",
    "arr = [2, 4, 2, 2, 5, 2, 2, 7, 2]  \n",
    "majority = find_majority(arr)\n",
    "if majority is not None:\n",
    "    print(f\"The majority element is {majority}\")\n",
    "else:\n",
    "    print(\"There is no majority element in the array.\")"
   ]
  },
  {
   "cell_type": "code",
   "execution_count": null,
   "id": "75e27420-3373-403d-a694-2b19d2c624a5",
   "metadata": {},
   "outputs": [],
   "source": []
  }
 ],
 "metadata": {
  "kernelspec": {
   "display_name": "Python 3 (ipykernel)",
   "language": "python",
   "name": "python3"
  },
  "language_info": {
   "codemirror_mode": {
    "name": "ipython",
    "version": 3
   },
   "file_extension": ".py",
   "mimetype": "text/x-python",
   "name": "python",
   "nbconvert_exporter": "python",
   "pygments_lexer": "ipython3",
   "version": "3.10.8"
  }
 },
 "nbformat": 4,
 "nbformat_minor": 5
}
